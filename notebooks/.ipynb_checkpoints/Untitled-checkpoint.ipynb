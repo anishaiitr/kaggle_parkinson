{
 "cells": [
  {
   "cell_type": "code",
   "execution_count": 1,
   "id": "f787d937",
   "metadata": {},
   "outputs": [],
   "source": [
    "import pandas as pd\n",
    "import numpy as np\n",
    "import matplotlib.pyplot as plt\n",
    "from sklearn.cluster import KMeans\n",
    "import re\n",
    "from torch import nn\n",
    "from tqdm import tqdm\n",
    "import torch.optim as optim\n",
    "import torch\n",
    "from sklearn.model_selection import train_test_split\n",
    "from sklearn.model_selection import StratifiedKFold\n",
    "from eli5.permutation_importance import get_score_importances\n",
    "from sklearn.metrics import f1_score, accuracy_score, precision_score, recall_score, confusion_matrix, roc_curve, auc"
   ]
  },
  {
   "cell_type": "markdown",
   "id": "8536203b",
   "metadata": {},
   "source": [
    "## Data preparation"
   ]
  },
  {
   "cell_type": "code",
   "execution_count": 2,
   "id": "19a8fbcc",
   "metadata": {},
   "outputs": [],
   "source": [
    "dataPath = '../data/dataset.csv'\n",
    "resultsPath = '../results/clustering'"
   ]
  },
  {
   "cell_type": "code",
   "execution_count": 3,
   "id": "135e2921",
   "metadata": {},
   "outputs": [],
   "source": [
    "data = pd.read_csv(dataPath)"
   ]
  },
  {
   "cell_type": "code",
   "execution_count": 4,
   "id": "3cd30893",
   "metadata": {},
   "outputs": [],
   "source": [
    "def identifyPatient(x):\n",
    "    if 'PD' in x:\n",
    "        return 'PD'\n",
    "    elif 'RBD' in x:\n",
    "        return 'RBD'\n",
    "    else:\n",
    "        return 'HC'"
   ]
  },
  {
   "cell_type": "code",
   "execution_count": 5,
   "id": "bf1a626f",
   "metadata": {},
   "outputs": [],
   "source": [
    "data['patientType'] = data[' Participant  code '].apply(identifyPatient)"
   ]
  },
  {
   "cell_type": "code",
   "execution_count": 6,
   "id": "0a7c1cfc",
   "metadata": {},
   "outputs": [
    {
     "data": {
      "text/plain": [
       "RBD    50\n",
       "HC     50\n",
       "PD     30\n",
       "Name: patientType, dtype: int64"
      ]
     },
     "execution_count": 6,
     "metadata": {},
     "output_type": "execute_result"
    }
   ],
   "source": [
    "data['patientType'].value_counts()"
   ]
  },
  {
   "cell_type": "code",
   "execution_count": 7,
   "id": "32ff78d6",
   "metadata": {},
   "outputs": [],
   "source": [
    "specialcols = [' Antidepressant  therapy ', ' Benzodiazepine  medication ']\n",
    "for col in specialcols:\n",
    "    data[f'{col}name'] = data[col].apply(lambda x: re.search('[aA-zZ]+', x.split(' ')[3]).group(0) if x!= 'No' else x)\n",
    "    data[col] = data[col].apply(lambda x: x.split(' ')[1] if x!= 'No' else x)"
   ]
  },
  {
   "cell_type": "markdown",
   "id": "adc053d6",
   "metadata": {},
   "source": [
    "### Checking for missing values"
   ]
  },
  {
   "cell_type": "code",
   "execution_count": 8,
   "id": "06d77e50",
   "metadata": {},
   "outputs": [],
   "source": [
    "for col in data.columns:\n",
    "    data.loc[data[col]=='-',col] = np.nan"
   ]
  },
  {
   "cell_type": "code",
   "execution_count": 9,
   "id": "7bbdd198",
   "metadata": {
    "scrolled": true
   },
   "outputs": [
    {
     "name": "stdout",
     "output_type": "stream",
     "text": [
      " Participant  code : 0\n",
      " Age  (years) : 0\n",
      "Gender: 0\n",
      " Positive  history  of  Parkinson  disease  in  family : 50\n",
      " Age  of  disease  onset  (years) : 50\n",
      " Duration  of  disease  from  first  symptoms  (years) : 50\n",
      " Antidepressant  therapy : 0\n",
      " Antiparkinsonian  medication : 0\n",
      " Antipsychotic  medication : 0\n",
      " Benzodiazepine  medication : 0\n",
      " Levodopa  equivalent  (mg/day) : 0\n",
      " Clonazepam  (mg/day) : 0\n",
      " Overview  of  motor  examination:  Hoehn  &  Yahr  scale  (-) : 100\n",
      " Overview  of  motor  examination:  UPDRS  III  total  (-) : 50\n",
      " 18.  Speech : 50\n",
      " 19.  Facial  Expression : 50\n",
      " 20.  Tremor  at  Rest  -  head : 50\n",
      " 20.  Tremor  at  Rest  -  RUE : 50\n",
      " 20.  Tremor  at  Rest  -  LUE : 50\n",
      " 20.  Tremor  at  Rest  -  RLE : 50\n",
      " 20.  Tremor  at  Rest  -  LLE : 50\n",
      " 21.  Action  or  Postural  Tremor  -  RUE : 50\n",
      " 21.  Action  or  Postural  Tremor  -  LUE : 50\n",
      " 22.  Rigidity  -  neck : 50\n",
      " 22.  Rigidity  -  RUE : 50\n",
      " 22.  Rigidity  -  LUE : 50\n",
      " 22.  Rigidity  -  RLE : 50\n",
      " 22.  Rigidity  -  LLE : 50\n",
      " 23.Finger  Taps  -  RUE : 50\n",
      " 23.Finger  Taps  -  LUE : 50\n",
      " 24.  Hand  Movements  -  RUE : 50\n",
      " 24.  Hand  Movements  -  LUE : 50\n",
      " 25.  Rapid  Alternating  Movements  -  RUE : 50\n",
      " 25.  Rapid  Alternating  Movements  -  LUE : 50\n",
      " 26.  Leg  Agility  -  RLE : 50\n",
      " 26.  Leg  Agility  -  LLE : 50\n",
      " 27.  Arising  from  Chair   : 50\n",
      " 28.  Posture : 50\n",
      " 29.  Gait : 50\n",
      " 30.  Postural  Stability : 50\n",
      " 31.  Body  Bradykinesia  and  Hypokinesia : 50\n",
      " Entropy  of  speech  timing  (-) : 0\n",
      " Rate  of  speech  timing  (-/min) : 0\n",
      " Acceleration  of  speech  timing  (-/min2) : 0\n",
      " Duration  of  pause  intervals  (ms) : 0\n",
      " Duration  of  voiced  intervals  (ms) : 0\n",
      " Gaping  in-between  voiced  intervals  (-/min) : 0\n",
      " Duration  of  unvoiced  stops  (ms) : 0\n",
      " Decay  of  unvoiced  fricatives  (‰/min) : 0\n",
      " Relative  loudness  of  respiration  (dB) : 0\n",
      " Pause  intervals  per  respiration  (-) : 0\n",
      " Rate  of  speech  respiration  (-/min) : 0\n",
      " Latency  of  respiratory  exchange  (ms) : 0\n",
      " Entropy  of  speech  timing  (-) .1: 0\n",
      " Rate  of  speech  timing  (-/min) .1: 0\n",
      " Acceleration  of  speech  timing  (-/min2) .1: 0\n",
      " Duration  of  pause  intervals  (ms) .1: 0\n",
      " Duration  of  voiced  intervals  (ms) .1: 0\n",
      " Gaping  in-between  voiced  Intervals  (-/min) : 0\n",
      " Duration  of  unvoiced  stops  (ms) .1: 0\n",
      " Decay  of  unvoiced  fricatives  (‰/min) .1: 0\n",
      " Relative  loudness  of  respiration  (dB) .1: 0\n",
      " Pause  intervals  per  respiration  (-) .1: 0\n",
      " Rate  of  speech  respiration  (-/min) .1: 0\n",
      " Latency  of  respiratory  exchange  (ms) .1: 0\n",
      "patientType: 0\n",
      " Antidepressant  therapy name: 0\n",
      " Benzodiazepine  medication name: 0\n"
     ]
    }
   ],
   "source": [
    "for col in data.columns:\n",
    "    print(f'{col}: {pd.isnull(data[col]).sum()}')"
   ]
  },
  {
   "cell_type": "markdown",
   "id": "601819bf",
   "metadata": {},
   "source": [
    "### Looking at the unique values for each column to understand the information better"
   ]
  },
  {
   "cell_type": "code",
   "execution_count": 10,
   "id": "743c782d",
   "metadata": {},
   "outputs": [
    {
     "name": "stdout",
     "output_type": "stream",
     "text": [
      " Participant  code \n",
      "['PD01' 'PD02' 'PD03' 'PD04' 'PD05' 'PD06' 'PD07' 'PD08' 'PD09' 'PD10'\n",
      " 'PD11' 'PD12' 'PD13' 'PD14' 'PD15' 'PD16' 'PD17' 'PD18' 'PD19' 'PD20'\n",
      " 'PD21' 'PD22' 'PD23' 'PD24' 'PD25' 'PD26' 'PD27' 'PD28' 'PD29' 'PD30'\n",
      " 'RBD01' 'RBD02' 'RBD03' 'RBD04' 'RBD05' 'RBD06' 'RBD07' 'RBD08' 'RBD09'\n",
      " 'RBD10' 'RBD11' 'RBD12' 'RBD13' 'RBD14' 'RBD15' 'RBD16' 'RBD17' 'RBD18'\n",
      " 'RBD19' 'RBD20' 'RBD21' 'RBD22' 'RBD23' 'RBD24' 'RBD25' 'RBD26' 'RBD27'\n",
      " 'RBD28' 'RBD29' 'RBD30' 'RBD31' 'RBD32' 'RBD33' 'RBD34' 'RBD35' 'RBD36'\n",
      " 'RBD37' 'RBD38' 'RBD39' 'RBD40' 'RBD41' 'RBD42' 'RBD43' 'RBD44' 'RBD45'\n",
      " 'RBD46' 'RBD47' 'RBD48' 'RBD49' 'RBD50' 'HC01' 'HC02' 'HC03' 'HC04'\n",
      " 'HC05' 'HC06' 'HC07' 'HC08' 'HC09' 'HC10' 'HC11' 'HC12' 'HC13' 'HC14'\n",
      " 'HC15' 'HC16' 'HC17' 'HC18' 'HC19' 'HC20' 'HC21' 'HC22' 'HC23' 'HC24'\n",
      " 'HC25' 'HC26' 'HC27' 'HC28' 'HC29' 'HC30' 'HC31' 'HC32' 'HC33' 'HC34'\n",
      " 'HC35' 'HC36' 'HC37' 'HC38' 'HC39' 'HC40' 'HC41' 'HC42' 'HC43' 'HC44'\n",
      " 'HC45' 'HC46' 'HC47' 'HC48' 'HC49' 'HC50']\n",
      " Age  (years) \n",
      "[58. 68. 75. 61. 79. 59. 73. 66. 71. 37. 43. 70. 64. 34. 60. 77. 72. 69.\n",
      " 54. 74. 65. 63. 67. 83. 57. 46. 76. 48. 47. 56. 52. 62. 78. 51. 40. 45.\n",
      " 55. 53. 44.]\n",
      "Gender\n",
      "['F' 'M']\n",
      " Positive  history  of  Parkinson  disease  in  family \n",
      "['No' 'Yes' nan]\n",
      " Age  of  disease  onset  (years) \n",
      "['56' '67' '73' '60' '58' '78' '57' '72' '65' '70' '32' '37' '69' '63'\n",
      " '71' '30' '76' '59' '68' '46' '55' '66' '62' '64' '61' '81' '54' '36'\n",
      " '40' '50' '53' '41' '74' '33' nan]\n",
      " Duration  of  disease  from  first  symptoms  (years) \n",
      "['2' '1' '0.7' '5' '6' '2.5' '4' '0.5' '2.3' '8' '11' '3' '16' '10' '7'\n",
      " '15' '17' '12' '9' nan]\n",
      " Antidepressant  therapy \n",
      "['No' 'Yes']\n",
      " Antiparkinsonian  medication \n",
      "['No']\n",
      " Antipsychotic  medication \n",
      "['No']\n",
      " Benzodiazepine  medication \n",
      "['No' 'Yes']\n",
      " Levodopa  equivalent  (mg/day) \n",
      "[0.]\n",
      " Clonazepam  (mg/day) \n",
      "[0.    0.5   1.    0.125 2.   ]\n",
      " Overview  of  motor  examination:  Hoehn  &  Yahr  scale  (-) \n",
      "['1.5' '2.5' '2' nan]\n",
      " Overview  of  motor  examination:  UPDRS  III  total  (-) \n",
      "['8' '22' '19' '24' '54' '29' '32' '6' '15' '36' '11' '18' '25' '9' '14'\n",
      " '12' '43' '10' '7' '42' '27' '3' '2' '1' '5' '4' '0' '13' '21' nan]\n",
      " 18.  Speech \n",
      "['0' '1' nan]\n",
      " 19.  Facial  Expression \n",
      "['1' '2' '3' '0' nan]\n",
      " 20.  Tremor  at  Rest  -  head \n",
      "['0' '3' '1' '2' nan]\n",
      " 20.  Tremor  at  Rest  -  RUE \n",
      "['0' '1' '2' nan]\n",
      " 20.  Tremor  at  Rest  -  LUE \n",
      "['2' '0' '1' nan]\n",
      " 20.  Tremor  at  Rest  -  RLE \n",
      "['0' '1' nan]\n",
      " 20.  Tremor  at  Rest  -  LLE \n",
      "['2' '0' '1' nan]\n",
      " 21.  Action  or  Postural  Tremor  -  RUE \n",
      "['0' '1' '2' nan]\n",
      " 21.  Action  or  Postural  Tremor  -  LUE \n",
      "['0' '1' '2' nan]\n",
      " 22.  Rigidity  -  neck \n",
      "['0' '1' '2' '3' nan]\n",
      " 22.  Rigidity  -  RUE \n",
      "['0' '1' '3' '2' nan]\n",
      " 22.  Rigidity  -  LUE \n",
      "['1' '0' '3' '2' nan]\n",
      " 22.  Rigidity  -  RLE \n",
      "['0' '1' '2' nan]\n",
      " 22.  Rigidity  -  LLE \n",
      "['0' '2' '1' nan]\n",
      " 23.Finger  Taps  -  RUE \n",
      "['0' '1' '3' '2' '4' nan]\n",
      " 23.Finger  Taps  -  LUE \n",
      "['1' '2' '4' '3' '0' nan]\n",
      " 24.  Hand  Movements  -  RUE \n",
      "['0' '2' '1' '3' nan]\n",
      " 24.  Hand  Movements  -  LUE \n",
      "['0' '1' '2' '4' '3' nan]\n",
      " 25.  Rapid  Alternating  Movements  -  RUE \n",
      "['0' '1' '2' '3' '4' nan]\n",
      " 25.  Rapid  Alternating  Movements  -  LUE \n",
      "['1' '2' '0' '3' nan]\n",
      " 26.  Leg  Agility  -  RLE \n",
      "['0' '1' '3' '2' nan]\n",
      " 26.  Leg  Agility  -  LLE \n",
      "['0' '2' '3' '1' nan]\n",
      " 27.  Arising  from  Chair   \n",
      "['0' '1' nan]\n",
      " 28.  Posture \n",
      "['0' '1' '3' '2' nan]\n",
      " 29.  Gait \n",
      "['0' '1' '2' nan]\n",
      " 30.  Postural  Stability \n",
      "['0' '1' '2' nan]\n",
      " 31.  Body  Bradykinesia  and  Hypokinesia \n",
      "['0' '1' '2' '3' nan]\n",
      " Entropy  of  speech  timing  (-) \n",
      "[1.564 1.55  1.519 1.543 1.553 1.563 1.568 1.552 1.549 1.537 1.565 1.555\n",
      " 1.544 1.566 1.56  1.547 1.558 1.562 1.546 1.446 1.567 1.556 1.573 1.559\n",
      " 1.551 1.541 1.534 1.569 1.574 1.54  1.561 1.557 1.572 1.571 1.468 1.523\n",
      " 1.511 1.527 1.554 1.485 1.501 1.48  1.524 1.548 1.542 1.545 1.508 1.57\n",
      " 1.539 1.53 ]\n",
      " Rate  of  speech  timing  (-/min) \n",
      "[354. 340. 211. 140. 269. 317. 338. 374. 281. 234. 365. 301. 347. 386.\n",
      " 339. 298. 263. 312. 334. 283. 346. 311. 323. 325. 289. 276. 377. 359.\n",
      " 336. 358. 278. 270. 352. 331. 329. 360. 285. 398. 232. 279. 342. 361.\n",
      " 309. 318. 364. 288. 404. 293. 297. 449. 290. 303. 337. 299. 291. 296.\n",
      " 264. 302. 294. 320. 215. 327. 369. 249. 319. 392. 417. 388. 403. 335.\n",
      " 357. 363. 241. 389. 381. 399. 372. 395. 376. 350. 343. 402. 353. 382.\n",
      " 321. 328. 315. 457. 265.]\n",
      " Acceleration  of  speech  timing  (-/min2) \n",
      "[  6.05  27.52  11.97  -2.49   6.72  24.19   2.47  -4.36  11.1   16.09\n",
      "  21.82  -1.28  -1.73 -12.49  23.14   6.89  15.12  17.84  -4.82  17.27\n",
      "  17.85  10.09   7.56  22.4   11.41  11.24   6.64  14.94  18.4   -4.25\n",
      "  37.62   1.68  16.54   9.32   8.66  38.15  24.26   3.5    2.73  12.47\n",
      "   7.3   24.24  11.3   22.56  13.     3.36   2.54  12.31  10.54  15.8\n",
      "  19.01   4.63   9.34  23.48   8.19  12.3   36.81   5.07  22.22  16.21\n",
      "   0.11   6.25  21.35   0.89  20.72   2.94   4.4   14.89 -17.4   30.59\n",
      "  11.32   9.15   2.85  11.18  16.59   4.46  43.37  25.8   15.63  12.82\n",
      "  -9.4   40.07  32.06  26.56 -12.84   6.16  17.55   8.91  13.67  14.13\n",
      "   7.32 -10.52  19.57   7.35  11.33  18.73  -1.36  23.33  13.85  12.58\n",
      "  14.34  17.37   8.09  18.34   9.57  20.36  10.43  14.51  -2.26  13.71\n",
      "  -9.85  -7.45  -3.45  -7.17  33.64   1.42 -15.82  20.01  33.94 -20.32\n",
      "  17.62   3.58   6.31 -13.66  -2.44   6.49]\n",
      " Duration  of  pause  intervals  (ms) \n",
      "[146. 173. 377. 360. 211. 186. 214. 145. 117. 213. 198. 129. 224. 153.\n",
      " 137. 187. 245. 140. 155. 183. 193. 174. 220. 141. 172. 154. 169. 132.\n",
      " 135. 126. 111. 227. 175. 133. 130. 250. 257. 124. 181. 201. 166. 184.\n",
      " 188. 142. 226. 209. 112. 179. 162. 207. 158. 190. 203. 177. 147. 388.\n",
      " 185. 136. 157. 149. 109. 148. 138. 134. 159. 139. 143. 191. 105.  96.\n",
      " 164. 176. 196. 118. 160. 244. 156. 119. 163. 128. 144. 121. 168. 125.\n",
      " 171.]\n",
      " Duration  of  voiced  intervals  (ms) \n",
      "[264. 253. 322. 663. 328. 286. 310. 272. 265. 323. 414. 261. 280. 296.\n",
      " 257. 245. 270. 313. 326. 285. 317. 276. 267. 294. 258. 303. 332. 249.\n",
      " 273. 259. 268. 282. 266. 234. 354. 247. 327. 271. 302. 300. 248. 335.\n",
      " 239. 201. 284. 219. 290. 304. 288. 316. 291. 348. 418. 252. 274. 214.\n",
      " 366. 263. 229. 318. 243. 254. 281. 362. 240. 336. 255. 262. 298. 228.\n",
      " 232. 221. 244. 297. 346. 237. 277. 292. 260. 197. 365. 359. 283. 256.]\n",
      " Gaping  in-between  voiced  intervals  (-/min) \n",
      "[ 58.65  48.26  47.54  13.72  42.9   43.83  60.3   61.31  52.5   28.8\n",
      "  26.7   70.09  35.87  38.03  57.68  52.93  77.13  38.79  40.11  49.76\n",
      "  66.84  43.53  48.5   55.58  57.92  63.3   65.18  76.58  52.25  60.58\n",
      "  69.43  61.22  52.24  69.57  56.14  73.86  69.34  79.46  70.14  35.79\n",
      "  56.15  39.27  72.55  34.16  77.28  55.71  41.09  51.11  47.17  55.47\n",
      "  52.05  69.08  61.46  45.84  65.51  59.87  63.95  75.53  28.83  40.79\n",
      "  94.53  39.21  55.02  51.65  35.17  29.65  47.42  34.28  59.43  56.43\n",
      "  45.95  42.12  49.36  57.98  21.09  20.52  48.63  75.91  61.76 109.5\n",
      "  43.86  43.42  34.35  43.72  59.33  50.68  23.31  41.17  40.7   73.84\n",
      "  64.32  38.    42.87  49.91  65.13  44.38  42.66  53.89  72.14  38.36\n",
      "  79.78  79.37  54.37  48.84  45.21  46.13  58.42  63.04  66.    70.8\n",
      "  32.94  44.12  56.64  88.23  35.99  60.9   62.66  54.81  69.17  52.85\n",
      "  38.54  73.93  57.45  53.61  40.25  39.59  53.01  35.59]\n",
      " Duration  of  unvoiced  stops  (ms) \n",
      "[31.38 22.38 38.12 44.88 47.12 33.63 20.12 25.75 23.5  42.62 41.5  24.63\n",
      " 26.87 28.   33.62 40.37 32.5  31.37 34.75 26.88 22.37 47.13 29.12 38.13\n",
      " 35.87 24.62 50.5  48.25 37.   20.13 40.38 42.63 64.   30.25 29.13 35.88\n",
      " 46.   49.38 21.25 51.63 17.88]\n",
      " Decay  of  unvoiced  fricatives  (‰/min) \n",
      "[-2.1010e+00 -1.7450e+00  2.6570e+00 -9.3400e-01 -9.7300e-01  9.2100e-01\n",
      " -5.3470e+00  1.0840e+00  2.6900e-01  5.6200e-01  1.2750e+00 -1.1870e+00\n",
      " -2.0670e+00 -3.3800e+00 -1.8350e+00 -1.4020e+00 -5.5480e+00 -6.6430e+00\n",
      " -4.2000e-02 -3.2200e+00  1.2090e+00 -9.8900e-01 -5.4040e+00 -2.7100e+00\n",
      " -7.5100e-01 -1.3320e+00 -5.1900e-01 -1.4130e+00 -1.5100e-01 -3.6410e+00\n",
      "  5.8400e-01  7.3000e-02 -2.1290e+00 -8.9300e-01 -3.6400e-01 -2.9700e-01\n",
      "  5.8250e+00 -2.7520e+00 -2.3340e+00 -3.4990e+00 -4.3800e-01 -3.8370e+00\n",
      " -8.2380e+00  1.7110e+00 -3.4570e+00  2.3530e+00 -1.3920e+00 -2.4920e+00\n",
      "  3.9600e-01 -1.0000e-03  3.5600e-01 -3.7780e+00 -2.0570e+00 -4.6020e+00\n",
      " -1.1720e+00 -1.4120e+00  2.3900e-01  5.0130e+00  2.0380e+00  5.8800e-01\n",
      " -4.4300e+00 -2.8880e+00  1.1620e+00 -2.4660e+00 -2.1760e+00  1.3590e+00\n",
      "  1.0790e+00 -1.2591e+01 -1.3720e+00 -1.0200e-01 -5.0760e+00  9.2000e-01\n",
      " -2.8240e+00  1.3890e+00 -6.1900e-01 -6.6700e+00 -1.1570e+00  8.3500e-01\n",
      "  9.1100e-01 -7.8000e-02 -7.6100e-01  2.3410e+00 -4.8310e+00 -3.0200e-01\n",
      " -1.9870e+00 -5.7300e-01 -6.0350e+00 -1.2110e+00 -3.2010e+00 -1.1270e+01\n",
      " -2.9200e-01 -5.0170e+00  1.9050e+00 -3.0100e+00  3.5200e-01 -1.2300e-01\n",
      " -1.8570e+00 -4.7000e-01 -8.7800e-01 -8.6800e-01 -2.2380e+00 -5.4620e+00\n",
      " -2.1910e+00  1.0040e+00 -3.0810e+00 -6.6630e+00 -1.5180e+00 -3.0070e+00\n",
      " -2.5220e+00 -3.9650e+00  2.3600e-01 -1.0660e+00 -8.6850e+00 -4.0840e+00\n",
      " -1.9980e+00 -5.2600e+00  1.3900e-01 -1.5880e+00  2.9710e+00 -2.6130e+00\n",
      "  2.9400e+00  2.2260e+00 -4.1690e+00 -5.6490e+00 -1.8720e+00 -1.5170e+00\n",
      " -1.1110e+00 -8.2300e-01 -4.6900e-01]\n",
      " Relative  loudness  of  respiration  (dB) \n",
      "[-22.47 -24.59 -16.89 -25.54 -22.61 -25.   -26.2  -20.08 -15.04 -23.4\n",
      " -20.73 -24.99 -23.49 -22.59 -24.66 -21.6  -18.34 -24.43 -22.09 -22.54\n",
      " -22.98 -21.29 -22.11 -24.1  -18.33 -21.86 -20.32 -28.5  -22.91 -18.17\n",
      " -24.73 -23.83 -18.81 -26.61 -18.3  -18.01 -18.31 -19.67 -22.39 -20.89\n",
      " -19.66 -22.84 -21.2  -23.7  -20.87 -22.22 -25.41 -22.85 -18.38 -22.8\n",
      " -24.17 -21.75 -22.86 -20.69 -20.76 -23.32 -21.82 -23.37 -22.82 -16.75\n",
      " -18.65 -21.8  -27.91 -20.25 -20.06 -16.97 -26.48 -23.67 -30.48 -19.17\n",
      " -19.48 -23.55 -22.68 -18.09 -24.45 -23.44 -22.02 -15.32 -15.39 -26.25\n",
      " -22.96 -18.25 -16.28 -22.52 -22.12 -19.92 -28.43 -25.72 -15.27 -27.46\n",
      " -22.24 -25.85 -20.38 -18.42 -23.24 -21.06 -22.32 -16.81 -20.58 -19.52\n",
      " -17.16 -21.43 -29.11 -22.57 -22.43 -16.24 -21.27 -26.49 -24.83 -22.65\n",
      " -29.67 -22.2  -25.44 -23.66 -20.67 -23.41 -27.62 -24.34 -24.76 -23.28\n",
      " -16.49 -28.04 -22.87 -23.82 -28.26]\n",
      " Pause  intervals  per  respiration  (-) \n",
      "[ 4.5   7.    3.    1.    5.    2.75  5.25  6.5   9.25  6.75  3.75  5.5\n",
      "  6.    3.5   4.75  2.5   4.    5.75 18.5   7.5   6.25  7.75  8.25  1.5\n",
      "  9.    8.    2.   10.    3.25  4.25  7.25  9.75 17.25  9.5   8.75]\n",
      " Rate  of  speech  respiration  (-/min) \n",
      "[21.14 15.28 20.76 18.71 16.26 27.07 16.33 13.42 12.75 15.48 24.68 20.68\n",
      " 24.32 13.67 16.76 17.7  15.8  11.63 20.62 16.91 23.35 21.34 14.51 20.77\n",
      " 17.92 15.95 21.87  5.22 17.63 17.61 22.66 15.16 20.   20.63 13.66 17.17\n",
      " 19.2  21.17 14.14 15.39 23.09 19.27 25.67 11.19 17.47 19.46 21.43 16.64\n",
      " 16.78 12.92 15.53 20.08 14.25 13.56 24.18 20.34 18.13 10.86 10.85 20.82\n",
      " 17.22 15.33 18.79 14.09 19.07 16.94 21.83 17.05 22.81 11.93 14.74 29.16\n",
      " 20.43 15.3  15.78 24.49 22.24 23.44 15.56  9.94  8.87 19.77 16.19 16.18\n",
      " 22.2  19.6  40.22 21.75 21.05 16.66 11.48 23.46 17.69 16.1   5.76 14.26\n",
      "  6.61 21.64 22.76 18.06 17.84 21.01 24.03 35.03 14.75 18.11 19.61 23.08\n",
      " 15.97 23.25 21.35 19.04 17.77 28.85  9.84 22.91  9.53 16.5  11.81 10.91\n",
      " 10.24 13.46 19.11 18.14 17.57]\n",
      " Latency  of  respiratory  exchange  (ms) \n",
      "[167. 163. 372. 119.  78. 124. 288. 128.  87. 112.  44. 170. 190. 131.\n",
      " 200. 101. 142.  79. 136.  81.  76. 166.  92. 140. 192. 103. 146. 172.\n",
      "  99. 114.  84. 117. 113.  88.  80. 180.  89. 169.  85. 154. 196. 181.\n",
      "  65. 120. 102.  55.  95. 184.  75.  43.  67. 107. 129. 125. 155. 121.\n",
      " 158. 152. 182.  42.  10. 148.  69. 118. 143.  57. 138.  70. 214. 175.\n",
      " 106. 171. 325. 156. 189.  91. 234.  97. 183.  53.  73.  54. 134. 165.\n",
      " 144. 108. 308. 141. 441. 133. 224. 251. 226.]\n",
      " Entropy  of  speech  timing  (-) .1\n",
      "[1.564 1.569 1.55  1.539 1.56  1.518 1.566 1.573 1.559 1.556 1.528 1.514\n",
      " 1.563 1.515 1.562 1.555 1.558 1.561 1.572 1.575 1.568 1.548 1.541 1.535\n",
      " 1.552 1.565 1.543 1.547 1.557 1.554 1.536 1.574 1.544 1.542 1.512 1.567\n",
      " 1.53  1.571 1.576 1.551 1.553 1.537]\n",
      " Rate  of  speech  timing  (-/min) .1\n",
      "[333. 285. 247. 112. 230. 181. 289. 370. 288. 258. 174. 277. 342. 273.\n",
      " 279. 297. 324. 278. 295. 283. 208. 251. 200. 308. 372. 261. 325. 275.\n",
      " 340. 286. 334. 298. 253. 359. 332. 322. 234. 282. 248. 302. 233. 266.\n",
      " 257. 231. 170. 238. 267. 287. 246. 271. 311. 259. 228. 202. 235. 269.\n",
      " 390. 268. 307. 270. 255. 144. 338. 339. 241. 335. 347. 294. 215. 265.\n",
      " 367. 393. 314. 316. 343. 337. 290. 412. 301. 348. 346. 344. 400. 351.\n",
      " 353. 360. 368. 309. 245. 330. 274. 315. 384. 254. 300. 262. 281.]\n",
      " Acceleration  of  speech  timing  (-/min2) .1\n",
      "[ -2.82   8.2    4.71  -9.09  11.77  13.38  -1.53  -4.12   5.25   4.99\n",
      "   1.1   -0.81   3.33  11.04   8.41  -5.88  -5.26  -0.17  -1.06   3.61\n",
      "   1.     7.36   7.72   2.41  -0.93   7.91  -7.02   3.57  10.82   3.62\n",
      "  -1.89  -4.89   7.01   7.15   6.35  -4.21  -2.33  -4.41   4.51   0.23\n",
      "  -5.3    6.53  -2.02   9.03 -17.87   4.1    0.97   3.21   1.4    5.48\n",
      "   0.93 -11.18  -2.44   2.06   5.36  -2.38   6.68  -0.78  -1.52   2.36\n",
      "   0.95   0.9    7.64  -2.74  -0.33  -6.13  -3.03   1.52   0.21   4.02\n",
      "   0.96  -2.59   2.23   0.7    3.85  -1.97   5.3    4.61  10.42   3.69\n",
      "  -0.12  -1.28  11.65  -6.1   -0.98  -5.91  14.64   5.63   8.71   3.6\n",
      "   1.05   3.92   0.49  -1.42   5.26  -0.62  -4.01   2.6    3.02  -3.52\n",
      "   8.86   1.71   1.22   1.74  -1.66   5.07   3.2    1.48   1.84   0.44\n",
      "   2.7    0.1   -3.18   0.83   0.22  -0.04  -3.25  -5.38   1.32   5.04\n",
      "  -1.67   8.43   4.09   5.09   2.8    0.24]\n",
      " Duration  of  pause  intervals  (ms) .1\n",
      "[158. 295. 280. 397. 206. 611. 251. 118. 194. 246. 433. 214. 261. 322.\n",
      " 195. 198. 320. 225. 224. 374. 202. 334. 417. 208. 138. 243. 201. 193.\n",
      " 140. 221. 167. 179. 135. 296. 146. 183. 404. 292. 189. 169. 237. 211.\n",
      " 260. 264. 305. 217. 284. 247. 453. 293. 259. 286. 245. 240. 274. 161.\n",
      " 271. 344. 231. 384. 297. 253. 191. 186. 379. 143. 178. 227. 269. 215.\n",
      " 199. 226. 219. 180. 258. 142. 151. 147. 157. 130. 173. 255. 285. 152.\n",
      " 139. 141. 117. 233. 176. 270. 298. 166. 174. 207. 164. 129. 170. 200.\n",
      " 177. 220. 197. 460. 184. 132. 223. 252. 235.]\n",
      " Duration  of  voiced  intervals  (ms) .1\n",
      "[318. 264. 317. 800. 480. 398. 278. 269. 356. 519. 313. 248. 307. 258.\n",
      " 316. 310. 329. 397. 332. 308. 358. 281. 287. 349. 322. 239. 364. 299.\n",
      " 373. 302. 268. 342. 298. 279. 326. 392. 381. 324. 351. 289. 315. 437.\n",
      " 344. 345. 309. 256. 347. 339. 293. 352. 348. 353. 235. 440. 354. 284.\n",
      " 360. 671. 260. 291. 274. 242. 305. 407. 238. 311. 380. 290. 367. 259.\n",
      " 211. 300. 341. 261. 295. 286. 267. 216. 288. 331. 255. 330. 265. 275.\n",
      " 357. 328. 241. 359. 391. 361. 319.]\n",
      " Gaping  in-between  voiced  Intervals  (-/min) \n",
      "[49.01 40.56 48.97 18.69 33.54 18.18 58.9  68.65 53.72 38.19 23.55 50.98\n",
      " 21.76 57.91 44.66 53.1  60.9  29.35 46.69 34.77 59.1  36.21 47.43 38.14\n",
      " 41.74 54.89 61.78 51.58 43.29 51.01 67.8  50.47 55.2  40.98 53.2  42.19\n",
      " 48.77 63.   43.84 34.94 53.33 29.32 39.52 43.72 39.38 30.97 36.52 42.91\n",
      " 34.7  38.37 43.59 41.71 46.48 44.28 35.29 39.23 50.25 44.91 28.73 45.18\n",
      " 71.32 34.53 47.61 34.61 28.56 31.36 16.62 40.03 27.13 54.93 39.9  59.45\n",
      " 63.1  37.84 14.68 38.18 74.16 58.27 56.59 27.91 31.49 72.96 32.87 35.46\n",
      " 60.97 26.44 36.95 30.62 59.11 65.63 26.16 42.14 50.9  59.15 48.09 39.71\n",
      " 42.95 72.56 22.71 60.65 52.62 63.91 53.6  41.81 39.87 56.52 46.17 52.93\n",
      " 49.15 37.1  31.93 39.34 46.84 52.21 57.01 47.25 48.15 57.28 52.53 44.18\n",
      " 41.14 50.61 58.73 56.71 36.36 47.06 37.74 38.92 44.56]\n",
      " Duration  of  unvoiced  stops  (ms) .1\n",
      "[22.37 26.88 49.37 26.87 22.38 17.88 31.37 40.37 31.38 35.87 20.13 35.88\n",
      " 42.62 58.37 29.13 13.37]\n",
      " Decay  of  unvoiced  fricatives  (‰/min) .1\n",
      "[ 0.588 -0.825 -0.955  0.791  0.075  1.488  0.174  0.554 -0.614  0.5\n",
      " -0.179  0.722 -0.12   0.724 -0.76   0.628  0.317 -0.088  1.249 -0.32\n",
      " -0.736 -0.707  0.208 -0.621  0.624 -0.719  0.207  0.254  0.019  0.884\n",
      "  0.238 -0.449  0.445  0.466 -0.034  0.426 -0.483  0.761  0.578 -0.446\n",
      " -0.199  0.428  0.815 -0.853  0.13   1.916  0.581 -0.275 -0.134 -0.073\n",
      " -0.513 -0.013  0.178  1.119  0.073 -0.918 -0.035  0.109  0.154  0.\n",
      " -0.587 -0.834  0.156 -0.204  0.789 -0.351 -0.186 -0.857 -0.286  0.241\n",
      "  0.139  0.296  1.487  0.116  0.286  0.039  0.555 -0.318 -0.347  0.725\n",
      "  0.335  0.338  0.135 -0.448 -0.406 -1.003  0.606 -0.687  0.434 -0.338\n",
      "  0.127  0.01  -0.837  0.339 -0.245  1.323  0.029 -0.328 -0.758  0.181\n",
      "  0.141 -0.664  0.438  0.435 -0.172  1.027  0.319 -0.538 -0.574 -0.059\n",
      " -0.153 -0.786 -0.366 -0.484 -0.141 -1.088  0.677 -0.165  0.42   0.781\n",
      " -1.417  0.046 -0.385 -0.201  0.023 -0.117  0.411  0.389  1.137]\n",
      " Relative  loudness  of  respiration  (dB) .1\n",
      "[-19.77 -23.26 -13.29 -25.08 -22.32 -23.38 -17.44 -17.04 -20.2  -22.97\n",
      " -23.71 -21.98 -19.23 -18.86 -15.8  -25.14 -21.23 -20.82 -20.97 -24.08\n",
      " -17.8  -22.34 -21.57 -17.28 -19.67 -17.7  -21.63 -20.52 -15.69 -15.73\n",
      " -20.16 -17.91 -19.99 -21.62 -13.99 -17.66 -17.12 -21.28 -20.96 -19.33\n",
      " -18.   -20.36 -20.3  -16.26 -20.27 -24.48 -23.13 -17.27 -21.41 -20.04\n",
      " -18.49 -19.72 -21.58 -20.42 -20.01 -22.18 -22.11 -17.22 -22.43 -18.52\n",
      " -20.92 -20.99 -21.55 -11.81 -23.06 -23.53 -23.91 -18.47 -17.88 -20.88\n",
      " -20.91 -24.31 -21.27 -16.02 -19.73 -16.65 -25.79 -24.61 -18.61 -23.69\n",
      " -12.46 -21.09 -21.   -22.15 -26.54 -22.21  -9.27 -21.32 -22.63 -17.34\n",
      " -12.78 -24.14 -21.65 -16.74 -19.12 -14.34 -17.68 -19.24 -22.68 -17.74\n",
      " -20.85 -13.67 -20.02 -20.81 -16.47 -21.36 -25.41 -22.73 -21.51 -19.81\n",
      " -22.66 -19.87 -23.68 -20.7  -19.08  -8.86 -23.12 -18.67 -15.56 -17.53\n",
      " -27.31]\n",
      " Pause  intervals  per  respiration  (-) .1\n",
      "[ 6.   4.   2.   5.  13.5  3.5  3.   9.   4.5  7.   5.5  8.   1.5 10.5]\n",
      " Rate  of  speech  respiration  (-/min) .1\n",
      "[13.81 21.77 22.52 14.37 14.61 18.21 17.85  8.21 21.25 15.5  18.99 19.25\n",
      " 21.11 16.5  20.06 13.44 18.86 19.11 16.59 14.55 21.89 18.56 14.93 27.49\n",
      " 21.42 11.35 17.99 17.47 24.84 13.63  9.58 18.02 16.23 17.52 20.96 12.94\n",
      " 21.66 14.56 19.12 14.6  15.72 18.07 16.87 24.26 10.79 18.19 17.91 21.5\n",
      " 18.9  13.33 19.71 22.39 25.28 17.38 26.43 23.22 16.98 21.97 19.94 12.36\n",
      " 14.73 14.24 15.77 18.22 20.93 24.22 28.88 16.32 17.95 24.02 17.65 18.1\n",
      " 13.79 16.46 15.51 21.   15.44 24.07 16.04 14.54 18.49 13.72 24.95 18.23\n",
      " 13.89 21.51 19.95  9.   14.34  9.24 17.7  17.8  20.23 11.08 13.29 14.82\n",
      " 15.9  18.67 15.48  9.76  9.97 25.86 19.21 19.31 20.13 12.54 21.44 11.26\n",
      " 16.53 16.72 19.72 14.72 19.75 21.03 12.65 13.12 16.09 13.5  18.08 14.44\n",
      " 19.54 15.35 15.75 15.41 16.94 19.51 17.51 14.04]\n",
      " Latency  of  respiratory  exchange  (ms) .1\n",
      "[127. 313. 201. 151. 593. 203. 116.  81.  69.  40. 179. 189. 193. 218.\n",
      "  67. 202. 174.  49. 118. 170. 105. 124. 248. 121. 100. 262. 139.  96.\n",
      " 266. 191.  58.  97. 160. 112.  82.  85.  71. 161. 216. 185. 165. 219.\n",
      " 128. 195. 282. 365. 125. 209. 348.  98. 146. 323.  15. 171. 208.  79.\n",
      " 120. 107.  93. 102.  70.  89. 144.  80.  52. 117.  90. 156. 260. 150.\n",
      " 140. 180.  51. 138. 240. 108.  50.  75.  83. 122. 250. 229.  92.  44.\n",
      "  55.  72. 129. 104.  86.  84. 205.  33.  77. 169. 145. 522. 177. 154.\n",
      " 130.]\n",
      "patientType\n",
      "['PD' 'RBD' 'HC']\n",
      " Antidepressant  therapy name\n",
      "['No' 'Aurorix' 'Trittico' 'Remood' 'Zoloft' 'Anafranil' 'Citalec'\n",
      " 'Velaxin' 'Asentra' 'Cipralex']\n",
      " Benzodiazepine  medication name\n",
      "['No' 'Rivotril' 'Xanax' 'Neurol']\n"
     ]
    }
   ],
   "source": [
    "for col in data.columns:\n",
    "    print(col)\n",
    "    print(data[col].unique())"
   ]
  },
  {
   "cell_type": "markdown",
   "id": "6bc5f08a",
   "metadata": {},
   "source": [
    "### Segregating the columns by their type so they can be processed accordingly"
   ]
  },
  {
   "cell_type": "code",
   "execution_count": 11,
   "id": "de1082fb",
   "metadata": {},
   "outputs": [],
   "source": [
    "categorical = ['Gender', ' Antidepressant  therapy ',\n",
    "            ' Benzodiazepine  medication ']\n",
    "ordinal_categorical = [' 18.  Speech ', ' 19.  Facial  Expression ',' 20.  Tremor  at  Rest  -  head ', ' 20.  Tremor  at  Rest  -  RUE ',\n",
    "       ' 20.  Tremor  at  Rest  -  LUE ', ' 20.  Tremor  at  Rest  -  RLE ',' 20.  Tremor  at  Rest  -  LLE ',\n",
    "       ' 21.  Action  or  Postural  Tremor  -  RUE ',' 21.  Action  or  Postural  Tremor  -  LUE ',\n",
    "       ' 22.  Rigidity  -  neck ', ' 22.  Rigidity  -  RUE ',' 22.  Rigidity  -  LUE ', ' 22.  Rigidity  -  RLE ',\n",
    "       ' 22.  Rigidity  -  LLE ', ' 23.Finger  Taps  -  RUE ',' 23.Finger  Taps  -  LUE ', ' 24.  Hand  Movements  -  RUE ',\n",
    "       ' 24.  Hand  Movements  -  LUE ',' 25.  Rapid  Alternating  Movements  -  RUE ',\n",
    "       ' 25.  Rapid  Alternating  Movements  -  LUE ',' 26.  Leg  Agility  -  RLE ', ' 26.  Leg  Agility  -  LLE ',\n",
    "       ' 27.  Arising  from  Chair   ', ' 28.  Posture ', ' 29.  Gait ',' 30.  Postural  Stability ',\n",
    "       ' 31.  Body  Bradykinesia  and  Hypokinesia ']\n",
    "numerical = [' Age  (years) ', ' Entropy  of  speech  timing  (-) ',' Rate  of  speech  timing  (-/min) ',\n",
    "       ' Acceleration  of  speech  timing  (-/min2) ',' Duration  of  pause  intervals  (ms) ',\n",
    "       ' Duration  of  voiced  intervals  (ms) ',' Gaping  in-between  voiced  intervals  (-/min) ',\n",
    "       ' Duration  of  unvoiced  stops  (ms) ',' Decay  of  unvoiced  fricatives  (‰/min) ',\n",
    "       ' Relative  loudness  of  respiration  (dB) ',' Pause  intervals  per  respiration  (-) ',\n",
    "       ' Rate  of  speech  respiration  (-/min) ',' Latency  of  respiratory  exchange  (ms) ',\n",
    "       ' Entropy  of  speech  timing  (-) .1',' Rate  of  speech  timing  (-/min) .1',\n",
    "       ' Acceleration  of  speech  timing  (-/min2) .1',' Duration  of  pause  intervals  (ms) .1',\n",
    "       ' Duration  of  voiced  intervals  (ms) .1',' Gaping  in-between  voiced  Intervals  (-/min) ',\n",
    "       ' Duration  of  unvoiced  stops  (ms) .1',' Decay  of  unvoiced  fricatives  (‰/min) .1',\n",
    "       ' Relative  loudness  of  respiration  (dB) .1',' Pause  intervals  per  respiration  (-) .1',\n",
    "       ' Rate  of  speech  respiration  (-/min) .1',' Latency  of  respiratory  exchange  (ms) .1']\n",
    "othercols = [' Overview  of  motor  examination:  UPDRS  III  total  (-) ']\n",
    "allcols = categorical + ordinal_categorical + numerical + othercols\n",
    "outputcol = ['patientType']"
   ]
  },
  {
   "cell_type": "markdown",
   "id": "7ee948d7",
   "metadata": {},
   "source": [
    "## One-hot encoding categorical variables"
   ]
  },
  {
   "cell_type": "code",
   "execution_count": 12,
   "id": "05e9a488",
   "metadata": {},
   "outputs": [],
   "source": [
    "new_data = data[allcols]\n",
    "for col in categorical:\n",
    "    df = pd.get_dummies(new_data[col], prefix=col)\n",
    "    min_col = {}\n",
    "    for cols in df.columns:\n",
    "        min_col[cols] = df[cols].sum()\n",
    "        dropcol = min(min_col.items(), key=lambda x: x[1])[0]\n",
    "    df = df.drop(columns=dropcol)\n",
    "    new_data = new_data.drop(columns=col)\n",
    "    new_data = pd.concat([new_data,df], axis=1)"
   ]
  },
  {
   "cell_type": "markdown",
   "id": "eb24aacf",
   "metadata": {},
   "source": [
    "### All the missing data in ordinal variables is for healthy patients, assuming that its safe to impute this data with values that indicate normal functioning "
   ]
  },
  {
   "cell_type": "code",
   "execution_count": 13,
   "id": "7b6b13f8",
   "metadata": {},
   "outputs": [
    {
     "name": "stdout",
     "output_type": "stream",
     "text": [
      " 18.  Speech : ['HC']\n",
      " 19.  Facial  Expression : ['HC']\n",
      " 20.  Tremor  at  Rest  -  head : ['HC']\n",
      " 20.  Tremor  at  Rest  -  RUE : ['HC']\n",
      " 20.  Tremor  at  Rest  -  LUE : ['HC']\n",
      " 20.  Tremor  at  Rest  -  RLE : ['HC']\n",
      " 20.  Tremor  at  Rest  -  LLE : ['HC']\n",
      " 21.  Action  or  Postural  Tremor  -  RUE : ['HC']\n",
      " 21.  Action  or  Postural  Tremor  -  LUE : ['HC']\n",
      " 22.  Rigidity  -  neck : ['HC']\n",
      " 22.  Rigidity  -  RUE : ['HC']\n",
      " 22.  Rigidity  -  LUE : ['HC']\n",
      " 22.  Rigidity  -  RLE : ['HC']\n",
      " 22.  Rigidity  -  LLE : ['HC']\n",
      " 23.Finger  Taps  -  RUE : ['HC']\n",
      " 23.Finger  Taps  -  LUE : ['HC']\n",
      " 24.  Hand  Movements  -  RUE : ['HC']\n",
      " 24.  Hand  Movements  -  LUE : ['HC']\n",
      " 25.  Rapid  Alternating  Movements  -  RUE : ['HC']\n",
      " 25.  Rapid  Alternating  Movements  -  LUE : ['HC']\n",
      " 26.  Leg  Agility  -  RLE : ['HC']\n",
      " 26.  Leg  Agility  -  LLE : ['HC']\n",
      " 27.  Arising  from  Chair   : ['HC']\n",
      " 28.  Posture : ['HC']\n",
      " 29.  Gait : ['HC']\n",
      " 30.  Postural  Stability : ['HC']\n",
      " 31.  Body  Bradykinesia  and  Hypokinesia : ['HC']\n"
     ]
    }
   ],
   "source": [
    "for col in ordinal_categorical:\n",
    "    n = data[pd.isnull(data[col])]['patientType'].unique()\n",
    "    print(f'{col}: {n}')\n",
    "    new_data.loc[pd.isnull(new_data[col]),col] = '0'\n",
    "    new_data[col] = new_data[col].apply(lambda x: int(x))"
   ]
  },
  {
   "cell_type": "code",
   "execution_count": 14,
   "id": "5fde5f2e",
   "metadata": {},
   "outputs": [],
   "source": [
    "for col in othercols:\n",
    "    new_data.loc[pd.isnull(new_data[col]),col] = '0'\n",
    "    new_data[col] = new_data[col].apply(lambda x: float(x))\n",
    "    mean = new_data[col].mean()\n",
    "    std = new_data[col].std()\n",
    "    new_data[f'{col}_z'] = (new_data[col]-mean)/std\n",
    "    new_data = new_data.drop(columns = col)"
   ]
  },
  {
   "cell_type": "markdown",
   "id": "5b753195",
   "metadata": {},
   "source": [
    "## Normalising numerical variables"
   ]
  },
  {
   "cell_type": "code",
   "execution_count": 15,
   "id": "272eb1f6",
   "metadata": {},
   "outputs": [],
   "source": [
    "for col in numerical:\n",
    "    mean = new_data[col].mean()\n",
    "    std = new_data[col].std()\n",
    "    new_data[f'{col}_z'] = (new_data[col]-mean)/std\n",
    "    new_data = new_data.drop(columns = col)"
   ]
  },
  {
   "cell_type": "markdown",
   "id": "1671d9a3",
   "metadata": {},
   "source": [
    "## Preparing output"
   ]
  },
  {
   "cell_type": "code",
   "execution_count": 16,
   "id": "21e8bc1f",
   "metadata": {},
   "outputs": [
    {
     "data": {
      "text/plain": [
       "torch.Size([130, 1])"
      ]
     },
     "execution_count": 16,
     "metadata": {},
     "output_type": "execute_result"
    }
   ],
   "source": [
    "out = []\n",
    "for i in range(len(new_data)):\n",
    "    if (data.loc[i, 'patientType'] == 'PD') | (data.loc[i, 'patientType'] == 'RBD'):\n",
    "        out.append(1)\n",
    "    else:\n",
    "        out.append(0) \n",
    "        \n",
    "out = np.array(out)\n",
    "out = out.reshape(-1,1)\n",
    "out = out.astype(np.float32)\n",
    "out = torch.tensor(out)\n",
    "out.shape"
   ]
  },
  {
   "cell_type": "markdown",
   "id": "b94d0ec0",
   "metadata": {},
   "source": [
    "## Getting input and output arrays"
   ]
  },
  {
   "cell_type": "code",
   "execution_count": 17,
   "id": "4fbf1db4",
   "metadata": {},
   "outputs": [],
   "source": [
    "inp = new_data.values\n",
    "inp = inp.astype(np.float32)\n",
    "inp = torch.tensor(inp)"
   ]
  },
  {
   "cell_type": "code",
   "execution_count": 18,
   "id": "1319060a",
   "metadata": {},
   "outputs": [
    {
     "name": "stdout",
     "output_type": "stream",
     "text": [
      "Input array shape: torch.Size([130, 56])\n",
      "Output array shape: torch.Size([130, 1])\n"
     ]
    }
   ],
   "source": [
    "print(f'Input array shape: {inp.shape}')\n",
    "print(f'Output array shape: {out.shape}')"
   ]
  },
  {
   "cell_type": "markdown",
   "id": "4a1c0848",
   "metadata": {},
   "source": [
    "## Stratified Cross validation"
   ]
  },
  {
   "cell_type": "code",
   "execution_count": 19,
   "id": "18eaee4f",
   "metadata": {},
   "outputs": [],
   "source": [
    "skf = StratifiedKFold(n_splits=3)"
   ]
  },
  {
   "cell_type": "markdown",
   "id": "ab4957d4",
   "metadata": {},
   "source": [
    "## Building model\n",
    "## Model 1 - Healthy vs Unhealthy"
   ]
  },
  {
   "cell_type": "markdown",
   "id": "732a87af",
   "metadata": {},
   "source": [
    "### Adopting a heirarchical approach towards modelling. First model is to identify healthy and unhealthy patients. Unhealthy patients include both early onset untreated parkinson's disease patients and patients with RBD"
   ]
  },
  {
   "cell_type": "code",
   "execution_count": 20,
   "id": "561e58de",
   "metadata": {},
   "outputs": [],
   "source": [
    "class model(nn.Module):\n",
    "    def __init__(self, n_inputs, n_outputs, n_layers, n_units, activation):\n",
    "        super(model, self).__init__()\n",
    "        network = []\n",
    "        for n in range(n_layers):\n",
    "            if n==0:\n",
    "                network.extend([nn.Linear(n_inputs, n_units[n]), activation[n]])\n",
    "            elif n==n_layers-1:\n",
    "                network.extend([nn.Linear(n_units[n-1], n_outputs), activation[n]])\n",
    "            else:\n",
    "                network.extend([nn.Linear(n_units[n-1], n_units[n]), activation[n]])\n",
    "        self.model = nn.Sequential(*network)\n",
    "    def forward(self, x):\n",
    "        output = self.model(x)\n",
    "        return output\n",
    "    def plot_loss(self, loss_epo):\n",
    "        plt.plot(loss_epo.keys(), loss_epo.values())\n",
    "    def performance_measures(self, y_true, y_pred):\n",
    "        accuracy = round(accuracy_score(y_true, y_pred), 2)\n",
    "        precision = round(precision_score(y_true, y_pred), 2)\n",
    "        recall = round(recall_score(y_true, y_pred), 2)\n",
    "        f1 = round(recall_score(y_true, y_pred), 2)\n",
    "        return accuracy, precision, recall, f1\n",
    "    def calculate_performance(self, target, prediction, threshold):\n",
    "        F1_score = {}\n",
    "        perf = {}\n",
    "        prediction = prediction.detach().numpy()\n",
    "        for th in threshold:\n",
    "            pred = prediction.copy()\n",
    "            pred[pred>=th] = 1\n",
    "            pred[pred<th] = 0\n",
    "            F1_score[th] = f1_score(target, pred)\n",
    "        max_th = max(F1_score.items(), key=lambda x: x[1])[0]\n",
    "        binary = prediction.copy()\n",
    "        binary[binary>=th] = 1\n",
    "        binary[binary<th] = 0\n",
    "        clf_matrix = confusion_matrix(target, binary)\n",
    "        accuracy, precision, recall, f1 = self.performance_measures(target, binary)\n",
    "        fpr, tpr, _ = roc_curve(target, prediction)\n",
    "        roc_auc = auc(fpr, tpr)\n",
    "        perf['conf_matrix'] = clf_matrix\n",
    "        perf['accuracy'] = accuracy\n",
    "        perf['precision'] = precision\n",
    "        perf['recall'] = recall\n",
    "        perf['f1'] = f1\n",
    "        perf['auroc'] = roc_auc\n",
    "        perf['max_thresh'] = max_th\n",
    "        return perf"
   ]
  },
  {
   "cell_type": "code",
   "execution_count": 21,
   "id": "cc54c7b5",
   "metadata": {},
   "outputs": [],
   "source": [
    "n_inputs = inp.shape[1]\n",
    "n_outputs = 1\n",
    "n_layers = 3\n",
    "n_units = [20, 20, 20]\n",
    "activation = [nn.Tanh(), nn.Tanh(), nn.Sigmoid()]"
   ]
  },
  {
   "cell_type": "markdown",
   "id": "bc522d42",
   "metadata": {},
   "source": [
    "### 3-fold stratified cross validation to identify the best hyperparameters and neural network architecture for model"
   ]
  },
  {
   "cell_type": "code",
   "execution_count": 22,
   "id": "44698c71",
   "metadata": {},
   "outputs": [
    {
     "name": "stderr",
     "output_type": "stream",
     "text": [
      "100%|██████████| 100/100 [00:00<00:00, 1220.29it/s]\n",
      "100%|██████████| 100/100 [00:00<00:00, 1510.17it/s]\n",
      "100%|██████████| 100/100 [00:00<00:00, 1527.65it/s]\n"
     ]
    }
   ],
   "source": [
    "mymodel = model(n_inputs, n_outputs, n_layers, n_units, activation)\n",
    "n_epochs = 100\n",
    "loss_obj = nn.BCELoss()\n",
    "optimizer = optim.Adam(mymodel.parameters(), lr=0.001)\n",
    "loss_epo = {}\n",
    "performance = {}\n",
    "fold=0\n",
    "torch.manual_seed(42)\n",
    "for train_index, test_index in skf.split(inp, out):\n",
    "    X_train, X_test = inp[train_index],inp[test_index]\n",
    "    y_train, y_test = out[train_index], out[test_index]\n",
    "    for i in tqdm(range(n_epochs)):\n",
    "        mymodel.train()\n",
    "        prediction = mymodel(X_train)\n",
    "        loss = loss_obj(prediction, y_train)\n",
    "        loss_epo[i] = loss.detach().numpy()\n",
    "        loss.backward()\n",
    "        optimizer.step()\n",
    "        mymodel.zero_grad()\n",
    "    mymodel.eval()\n",
    "    with torch.no_grad():\n",
    "        pred_test = mymodel(X_test)\n",
    "        perf=mymodel.calculate_performance(y_test, pred_test, np.arange(0, 1, 0.1))\n",
    "        performance[f'Fold_{fold}'] = perf\n",
    "    fold+=1"
   ]
  },
  {
   "cell_type": "markdown",
   "id": "ba024722",
   "metadata": {},
   "source": [
    "### The performance shows quite stable results for every fold"
   ]
  },
  {
   "cell_type": "code",
   "execution_count": 23,
   "id": "de461c79",
   "metadata": {},
   "outputs": [
    {
     "data": {
      "text/plain": [
       "{'Fold_0': {'conf_matrix': array([[16,  1],\n",
       "         [ 0, 27]]),\n",
       "  'accuracy': 0.98,\n",
       "  'precision': 0.96,\n",
       "  'recall': 1.0,\n",
       "  'f1': 1.0,\n",
       "  'auroc': 1.0,\n",
       "  'max_thresh': 0.9},\n",
       " 'Fold_1': {'conf_matrix': array([[16,  0],\n",
       "         [ 6, 21]]),\n",
       "  'accuracy': 0.86,\n",
       "  'precision': 1.0,\n",
       "  'recall': 0.78,\n",
       "  'f1': 0.78,\n",
       "  'auroc': 0.9444444444444444,\n",
       "  'max_thresh': 0.30000000000000004},\n",
       " 'Fold_2': {'conf_matrix': array([[17,  0],\n",
       "         [ 4, 22]]),\n",
       "  'accuracy': 0.91,\n",
       "  'precision': 1.0,\n",
       "  'recall': 0.85,\n",
       "  'f1': 0.85,\n",
       "  'auroc': 1.0,\n",
       "  'max_thresh': 0.2}}"
      ]
     },
     "execution_count": 23,
     "metadata": {},
     "output_type": "execute_result"
    }
   ],
   "source": [
    "performance"
   ]
  },
  {
   "cell_type": "markdown",
   "id": "33a52be5",
   "metadata": {},
   "source": [
    "### Train-test split to calculate model performance on test data"
   ]
  },
  {
   "cell_type": "code",
   "execution_count": 24,
   "id": "a6c05658",
   "metadata": {},
   "outputs": [],
   "source": [
    "X_train, X_test, y_train, y_test = train_test_split(inp, out, test_size=0.2, random_state=42, stratify=out)"
   ]
  },
  {
   "cell_type": "code",
   "execution_count": 25,
   "id": "6a4153c6",
   "metadata": {},
   "outputs": [
    {
     "name": "stderr",
     "output_type": "stream",
     "text": [
      "100%|██████████| 100/100 [00:00<00:00, 1240.13it/s]"
     ]
    },
    {
     "name": "stdout",
     "output_type": "stream",
     "text": [
      "{'conf_matrix': array([[ 9,  1],\n",
      "       [ 4, 12]]), 'accuracy': 0.81, 'precision': 0.92, 'recall': 0.75, 'f1': 0.75, 'auroc': 0.93125, 'max_thresh': 0.8}\n"
     ]
    },
    {
     "name": "stderr",
     "output_type": "stream",
     "text": [
      "\n"
     ]
    }
   ],
   "source": [
    "mymodel = model(n_inputs, n_outputs, n_layers, n_units, activation)\n",
    "n_epochs = 100\n",
    "loss_obj = nn.BCELoss()\n",
    "optimizer = optim.Adam(mymodel.parameters(), lr=0.001)\n",
    "loss_epo = {}\n",
    "performance = {}\n",
    "torch.manual_seed(42)\n",
    "for i in tqdm(range(n_epochs)):\n",
    "    mymodel.train()\n",
    "    prediction = mymodel(X_train)\n",
    "    loss = loss_obj(prediction, y_train)\n",
    "    loss_epo[i] = loss.detach().numpy()    \n",
    "    loss.backward()\n",
    "    optimizer.step()\n",
    "    mymodel.zero_grad()\n",
    "mymodel.eval()\n",
    "with torch.no_grad():\n",
    "    pred_test = mymodel(X_test)\n",
    "    perf=mymodel.calculate_performance(y_test, pred_test,  np.arange(0, 1, 0.1))\n",
    "    print(perf)"
   ]
  },
  {
   "cell_type": "markdown",
   "id": "64a376b7",
   "metadata": {},
   "source": [
    "# Feature Importance - Permutation importance"
   ]
  },
  {
   "cell_type": "markdown",
   "id": "c389641a",
   "metadata": {},
   "source": [
    "### This analysis helps in identifying the factors which the model indicate are important in predicting the health of a patient"
   ]
  },
  {
   "cell_type": "code",
   "execution_count": 26,
   "id": "69795bff",
   "metadata": {},
   "outputs": [],
   "source": [
    "def score(X, y):\n",
    "    y_pred = mymodel(torch.tensor(X))\n",
    "    fpr, tpr, _ = roc_curve(y, y_pred.detach().numpy())\n",
    "    roc_auc = auc(fpr, tpr)\n",
    "    return roc_auc"
   ]
  },
  {
   "cell_type": "code",
   "execution_count": 27,
   "id": "90950d2b",
   "metadata": {},
   "outputs": [],
   "source": [
    "base_score, score_decreases = get_score_importances(score, X_test.detach().numpy(), y_test.detach().numpy())\n",
    "feature_importances = np.mean(score_decreases, axis=0)"
   ]
  },
  {
   "cell_type": "code",
   "execution_count": 28,
   "id": "a0f8d36f",
   "metadata": {},
   "outputs": [],
   "source": [
    "fimp = {}\n",
    "i=0\n",
    "for col in new_data.columns:\n",
    "    fimp[col] = feature_importances[i]\n",
    "    i+=1"
   ]
  },
  {
   "cell_type": "code",
   "execution_count": 29,
   "id": "9695a9fe",
   "metadata": {},
   "outputs": [],
   "source": [
    "sort_fimp = sorted(fimp.items(), key=lambda x: x[1], reverse=True)"
   ]
  },
  {
   "cell_type": "code",
   "execution_count": 30,
   "id": "4f3ba736",
   "metadata": {},
   "outputs": [],
   "source": [
    "lab = [x[0] for x in sort_fimp][0:10]\n",
    "val = [x[1] for x in sort_fimp][0:10]"
   ]
  },
  {
   "cell_type": "code",
   "execution_count": 31,
   "id": "5ef5026f",
   "metadata": {},
   "outputs": [
    {
     "data": {
      "text/plain": [
       "Text(0.5, 0, 'Feature importance score')"
      ]
     },
     "execution_count": 31,
     "metadata": {},
     "output_type": "execute_result"
    },
    {
     "data": {
      "image/png": "[encoded data removed]",
      "text/plain": [
       "<Figure size 432x288 with 1 Axes>"
      ]
     },
     "metadata": {
      "needs_background": "light"
     },
     "output_type": "display_data"
    }
   ],
   "source": [
    "plt.barh(lab, val)\n",
    "plt.xlabel('Feature importance score')"
   ]
  },
  {
   "cell_type": "markdown",
   "id": "74083f73",
   "metadata": {},
   "source": [
    "### If we look at exploratory data analysis, in a lot of variables which are identified as important by the model, there is a significant difference in distributions of Healthy and Unhealth patients"
   ]
  },
  {
   "cell_type": "markdown",
   "id": "25ff7cc1",
   "metadata": {},
   "source": [
    "## Model 2 - PD and RBD"
   ]
  },
  {
   "cell_type": "markdown",
   "id": "fd96312c",
   "metadata": {},
   "source": [
    "### This model is built to predict if a patient is suffering parkinson or RBD "
   ]
  },
  {
   "cell_type": "markdown",
   "id": "07d1b765",
   "metadata": {},
   "source": [
    "## Preparing data"
   ]
  },
  {
   "cell_type": "code",
   "execution_count": 32,
   "id": "fe6ded4b",
   "metadata": {},
   "outputs": [],
   "source": [
    "sub_data = data[['patientType',' Age  of  disease  onset  (years) ',' Duration  of  disease  from  first  symptoms  (years) ']]\n",
    "pd_data = pd.concat([new_data, sub_data], axis=1)\n",
    "pd_data = pd_data[pd_data['patientType']!='HC']"
   ]
  },
  {
   "cell_type": "code",
   "execution_count": 33,
   "id": "36f08de3",
   "metadata": {},
   "outputs": [],
   "source": [
    "newcols = [' Age  of  disease  onset  (years) ',' Duration  of  disease  from  first  symptoms  (years) ']\n",
    "for col in newcols:\n",
    "    pd_data[col] = pd_data[col].apply(lambda x: float(x))\n",
    "    mean = pd_data[col].mean()\n",
    "    std = pd_data[col].std()\n",
    "    pd_data[f'{col}_z'] = (pd_data[col]-mean)/std\n",
    "    pd_data = pd_data.drop(columns = col)"
   ]
  },
  {
   "cell_type": "code",
   "execution_count": 34,
   "id": "87a7b912",
   "metadata": {},
   "outputs": [],
   "source": [
    "output = pd_data['patientType'] "
   ]
  },
  {
   "cell_type": "code",
   "execution_count": 35,
   "id": "02156f9b",
   "metadata": {},
   "outputs": [],
   "source": [
    "pd_data = pd_data.drop(columns=['patientType', ' Age  (years) _z'])"
   ]
  },
  {
   "cell_type": "code",
   "execution_count": 36,
   "id": "c69f58c0",
   "metadata": {},
   "outputs": [
    {
     "data": {
      "text/plain": [
       "30"
      ]
     },
     "execution_count": 36,
     "metadata": {},
     "output_type": "execute_result"
    }
   ],
   "source": [
    "list(pd_data.columns).index(' Overview  of  motor  examination:  UPDRS  III  total  (-) _z')"
   ]
  },
  {
   "cell_type": "code",
   "execution_count": 37,
   "id": "39db1c0e",
   "metadata": {},
   "outputs": [
    {
     "data": {
      "text/plain": [
       "torch.Size([80, 1])"
      ]
     },
     "execution_count": 37,
     "metadata": {},
     "output_type": "execute_result"
    }
   ],
   "source": [
    "out = []\n",
    "for i in output:\n",
    "    if i == 'PD':\n",
    "        out.append(1)\n",
    "    else:\n",
    "        out.append(0) \n",
    "        \n",
    "out = np.array(out)\n",
    "out = out.reshape(-1,1)\n",
    "out = out.astype(np.float32)\n",
    "out = torch.tensor(out)\n",
    "out.shape"
   ]
  },
  {
   "cell_type": "code",
   "execution_count": 38,
   "id": "aa60198e",
   "metadata": {},
   "outputs": [],
   "source": [
    "inp = pd_data.values\n",
    "inp = inp.astype(np.float32)\n",
    "inp = torch.tensor(inp)"
   ]
  },
  {
   "cell_type": "code",
   "execution_count": 39,
   "id": "2067ea9f",
   "metadata": {},
   "outputs": [
    {
     "name": "stdout",
     "output_type": "stream",
     "text": [
      "Input array shape: torch.Size([80, 57])\n",
      "Output array shape: torch.Size([80, 1])\n"
     ]
    }
   ],
   "source": [
    "print(f'Input array shape: {inp.shape}')\n",
    "print(f'Output array shape: {out.shape}')"
   ]
  },
  {
   "cell_type": "markdown",
   "id": "983d38d9",
   "metadata": {},
   "source": [
    "### 3-fold Stratified cross validation"
   ]
  },
  {
   "cell_type": "code",
   "execution_count": 40,
   "id": "062ec5cc",
   "metadata": {},
   "outputs": [],
   "source": [
    "n_inputs = inp.shape[1]\n",
    "n_outputs = 1\n",
    "n_layers = 3\n",
    "n_units = [20,10, 10]\n",
    "activation = [nn.Tanh(),nn.Tanh(), nn.Sigmoid()]"
   ]
  },
  {
   "cell_type": "code",
   "execution_count": 41,
   "id": "3b3f6e8e",
   "metadata": {},
   "outputs": [
    {
     "name": "stderr",
     "output_type": "stream",
     "text": [
      "100%|██████████| 100/100 [00:00<00:00, 1310.51it/s]\n",
      "100%|██████████| 100/100 [00:00<00:00, 1572.92it/s]\n",
      "100%|██████████| 100/100 [00:00<00:00, 1569.31it/s]\n"
     ]
    }
   ],
   "source": [
    "mymodel = model(n_inputs, n_outputs, n_layers, n_units, activation)\n",
    "n_epochs = 100\n",
    "loss_obj = nn.BCELoss()\n",
    "optimizer = optim.Adam(mymodel.parameters(), lr=0.001)\n",
    "loss_epo = {}\n",
    "performance = {}\n",
    "fold=0\n",
    "torch.manual_seed(42)\n",
    "for train_index, test_index in skf.split(inp, out):\n",
    "    X_train, X_test = inp[train_index],inp[test_index]\n",
    "    y_train, y_test = out[train_index], out[test_index]\n",
    "    for i in tqdm(range(n_epochs)):\n",
    "        mymodel.train()\n",
    "        prediction = mymodel(X_train)\n",
    "        loss = loss_obj(prediction, y_train)\n",
    "        loss_epo[i] = loss.detach().numpy()\n",
    "        loss.backward()\n",
    "        optimizer.step()\n",
    "        mymodel.zero_grad()\n",
    "    mymodel.eval()\n",
    "    with torch.no_grad():\n",
    "        pred_test = mymodel(X_test)\n",
    "        perf=mymodel.calculate_performance(y_test, pred_test, np.arange(0, 1, 0.1))\n",
    "        performance[f'Fold_{fold}'] = perf\n",
    "    fold+=1"
   ]
  },
  {
   "cell_type": "code",
   "execution_count": 42,
   "id": "6e87d951",
   "metadata": {},
   "outputs": [
    {
     "data": {
      "text/plain": [
       "{'Fold_0': {'conf_matrix': array([[16,  1],\n",
       "         [ 3,  7]]),\n",
       "  'accuracy': 0.85,\n",
       "  'precision': 0.88,\n",
       "  'recall': 0.7,\n",
       "  'f1': 0.7,\n",
       "  'auroc': 0.9,\n",
       "  'max_thresh': 0.9},\n",
       " 'Fold_1': {'conf_matrix': array([[17,  0],\n",
       "         [ 5,  5]]),\n",
       "  'accuracy': 0.81,\n",
       "  'precision': 1.0,\n",
       "  'recall': 0.5,\n",
       "  'f1': 0.5,\n",
       "  'auroc': 0.9529411764705882,\n",
       "  'max_thresh': 0.8},\n",
       " 'Fold_2': {'conf_matrix': array([[16,  0],\n",
       "         [ 6,  4]]),\n",
       "  'accuracy': 0.77,\n",
       "  'precision': 1.0,\n",
       "  'recall': 0.4,\n",
       "  'f1': 0.4,\n",
       "  'auroc': 0.99375,\n",
       "  'max_thresh': 0.1}}"
      ]
     },
     "execution_count": 42,
     "metadata": {},
     "output_type": "execute_result"
    }
   ],
   "source": [
    "performance"
   ]
  },
  {
   "cell_type": "code",
   "execution_count": 43,
   "id": "8607c29d",
   "metadata": {},
   "outputs": [],
   "source": [
    "X_train, X_test, y_train, y_test = train_test_split(inp, out, test_size=0.3, random_state=42, stratify=out)"
   ]
  },
  {
   "cell_type": "code",
   "execution_count": 44,
   "id": "fec95fb8",
   "metadata": {},
   "outputs": [
    {
     "name": "stderr",
     "output_type": "stream",
     "text": [
      "100%|██████████| 30/30 [00:00<00:00, 1208.07it/s]"
     ]
    },
    {
     "name": "stdout",
     "output_type": "stream",
     "text": [
      "{'conf_matrix': array([[15,  0],\n",
      "       [ 9,  0]]), 'accuracy': 0.62, 'precision': 0.0, 'recall': 0.0, 'f1': 0.0, 'auroc': 0.7703703703703704, 'max_thresh': 0.6000000000000001}\n"
     ]
    },
    {
     "name": "stderr",
     "output_type": "stream",
     "text": [
      "\n",
      "/Users/anisha/Documents/assignments/kaggle_parkinson/env/lib/python3.8/site-packages/sklearn/metrics/_classification.py:1248: UndefinedMetricWarning: Precision is ill-defined and being set to 0.0 due to no predicted samples. Use `zero_division` parameter to control this behavior.\n",
      "  _warn_prf(average, modifier, msg_start, len(result))\n"
     ]
    }
   ],
   "source": [
    "mymodel = model(n_inputs, n_outputs, n_layers, n_units, activation)\n",
    "n_epochs = 30\n",
    "loss_obj = nn.BCELoss()\n",
    "optimizer = optim.Adam(mymodel.parameters(), lr=0.001)\n",
    "loss_epo = {}\n",
    "performance = {}\n",
    "torch.manual_seed(42)\n",
    "for i in tqdm(range(n_epochs)):\n",
    "    mymodel.train()\n",
    "    prediction = mymodel(X_train)\n",
    "    loss = loss_obj(prediction, y_train)\n",
    "    loss_epo[i] = loss.detach().numpy()\n",
    "    loss.backward()\n",
    "    optimizer.step()\n",
    "    mymodel.zero_grad()\n",
    "mymodel.eval()\n",
    "with torch.no_grad():\n",
    "    pred_test = mymodel(X_test)\n",
    "    perf=mymodel.calculate_performance(y_test, pred_test,  np.arange(0, 1, 0.2))\n",
    "    print(perf)"
   ]
  },
  {
   "cell_type": "markdown",
   "id": "d00f2673",
   "metadata": {},
   "source": [
    "# Feature Importance"
   ]
  },
  {
   "cell_type": "code",
   "execution_count": 45,
   "id": "8b4b397b",
   "metadata": {},
   "outputs": [],
   "source": [
    "def score(X, y):\n",
    "    y_pred = mymodel(torch.tensor(X))\n",
    "    fpr, tpr, _ = roc_curve(y, y_pred.detach().numpy())\n",
    "    roc_auc = auc(fpr, tpr)\n",
    "    return roc_auc"
   ]
  },
  {
   "cell_type": "code",
   "execution_count": 46,
   "id": "2affe017",
   "metadata": {},
   "outputs": [],
   "source": [
    "base_score, score_decreases = get_score_importances(score, X_test.detach().numpy(), y_test.detach().numpy())\n",
    "feature_importances = np.mean(score_decreases, axis=0)"
   ]
  },
  {
   "cell_type": "code",
   "execution_count": 47,
   "id": "d63655e2",
   "metadata": {},
   "outputs": [],
   "source": [
    "fimp = {}\n",
    "i=0\n",
    "for col in new_data.columns:\n",
    "    fimp[col] = feature_importances[i]\n",
    "    i+=1\n",
    "sort_fimp = sorted(fimp.items(), key=lambda x: x[1], reverse=True)\n",
    "lab = [x[0] for x in sort_fimp][0:10]\n",
    "val = [x[1] for x in sort_fimp][0:10]"
   ]
  },
  {
   "cell_type": "code",
   "execution_count": 48,
   "id": "93b47850",
   "metadata": {},
   "outputs": [
    {
     "data": {
      "text/plain": [
       "Text(0.5, 0, 'Feature importance score')"
      ]
     },
     "execution_count": 48,
     "metadata": {},
     "output_type": "execute_result"
    },
    {
     "data": {
      "image/png": "[encoded data removed]",
      "text/plain": [
       "<Figure size 720x720 with 1 Axes>"
      ]
     },
     "metadata": {
      "needs_background": "light"
     },
     "output_type": "display_data"
    }
   ],
   "source": [
    "plt.figure(figsize=(10,10))\n",
    "plt.barh(lab, val)\n",
    "plt.xlabel('Feature importance score')"
   ]
  },
  {
   "cell_type": "markdown",
   "id": "49cc889b",
   "metadata": {},
   "source": [
    "### One of the most important factor here is UPDRS III scale which makes sense as this is a very comprehesive scale used to identify if a patient has parkinson's. Apart from that, other variables shown to be important have a significantly differetnt distribution among PD and RBD patients"
   ]
  },
  {
   "cell_type": "markdown",
   "id": "8611d35d",
   "metadata": {},
   "source": [
    "# Simulation"
   ]
  },
  {
   "cell_type": "code",
   "execution_count": 49,
   "id": "1d98b2a8",
   "metadata": {},
   "outputs": [],
   "source": [
    "predictions = mymodel(X_test)"
   ]
  },
  {
   "cell_type": "code",
   "execution_count": 50,
   "id": "0d45831c",
   "metadata": {},
   "outputs": [
    {
     "data": {
      "text/plain": [
       "tensor([[0.4785],\n",
       "        [0.4742],\n",
       "        [0.6164],\n",
       "        [0.7064],\n",
       "        [0.6264],\n",
       "        [0.5024],\n",
       "        [0.5402],\n",
       "        [0.4799],\n",
       "        [0.6714],\n",
       "        [0.7723],\n",
       "        [0.5102],\n",
       "        [0.5985],\n",
       "        [0.6806],\n",
       "        [0.5669],\n",
       "        [0.4355],\n",
       "        [0.4905],\n",
       "        [0.3713],\n",
       "        [0.6005],\n",
       "        [0.5518],\n",
       "        [0.5492],\n",
       "        [0.4389],\n",
       "        [0.5261],\n",
       "        [0.5513],\n",
       "        [0.5081]], grad_fn=<SigmoidBackward>)"
      ]
     },
     "execution_count": 50,
     "metadata": {},
     "output_type": "execute_result"
    }
   ],
   "source": [
    "predictions"
   ]
  },
  {
   "cell_type": "code",
   "execution_count": 51,
   "id": "308429a4",
   "metadata": {},
   "outputs": [
    {
     "data": {
      "text/plain": [
       "tensor([[ 0.0000,  1.0000,  0.0000,  ..., -0.2019, -0.0699,  2.9039],\n",
       "        [ 0.0000,  0.0000,  1.0000,  ..., -0.7535,  1.0488, -0.7914],\n",
       "        [ 0.0000,  1.0000,  1.0000,  ...,  0.1854,  0.8624, -0.2987],\n",
       "        ...,\n",
       "        [ 0.0000,  0.0000,  0.0000,  ..., -1.5280, -0.5361, -0.7914],\n",
       "        [ 0.0000,  2.0000,  0.0000,  ..., -0.5070,  0.0233,  3.1503],\n",
       "        [ 0.0000,  0.0000,  0.0000,  ..., -0.8826, -0.7225,  1.9185]])"
      ]
     },
     "execution_count": 51,
     "metadata": {},
     "output_type": "execute_result"
    }
   ],
   "source": [
    "X_test"
   ]
  },
  {
   "cell_type": "code",
   "execution_count": 52,
   "id": "c861d7e6",
   "metadata": {},
   "outputs": [
    {
     "data": {
      "text/plain": [
       "tensor([0.5024], grad_fn=<SelectBackward>)"
      ]
     },
     "execution_count": 52,
     "metadata": {},
     "output_type": "execute_result"
    }
   ],
   "source": [
    "predictions[5]"
   ]
  },
  {
   "cell_type": "code",
   "execution_count": 53,
   "id": "90760288",
   "metadata": {},
   "outputs": [],
   "source": [
    "predictions[predictions>=0.6] = 1\n",
    "predictions[predictions<0.6] = 0"
   ]
  },
  {
   "cell_type": "code",
   "execution_count": 54,
   "id": "b63f2c58",
   "metadata": {},
   "outputs": [
    {
     "data": {
      "text/plain": [
       "tensor([[0.],\n",
       "        [0.],\n",
       "        [1.],\n",
       "        [1.],\n",
       "        [1.],\n",
       "        [0.],\n",
       "        [0.],\n",
       "        [0.],\n",
       "        [1.],\n",
       "        [1.],\n",
       "        [0.],\n",
       "        [0.],\n",
       "        [1.],\n",
       "        [0.],\n",
       "        [0.],\n",
       "        [0.],\n",
       "        [0.],\n",
       "        [1.],\n",
       "        [0.],\n",
       "        [0.],\n",
       "        [0.],\n",
       "        [0.],\n",
       "        [0.],\n",
       "        [0.]], grad_fn=<IndexPutBackward>)"
      ]
     },
     "execution_count": 54,
     "metadata": {},
     "output_type": "execute_result"
    }
   ],
   "source": [
    "predictions"
   ]
  },
  {
   "cell_type": "code",
   "execution_count": 55,
   "id": "dbf9d3fe",
   "metadata": {},
   "outputs": [],
   "source": [
    "patient_rbd = X_test[5, :].detach().numpy().copy()\n",
    "patient_rbd[30] = 4.6931"
   ]
  },
  {
   "cell_type": "code",
   "execution_count": 56,
   "id": "0e1d4cdf",
   "metadata": {},
   "outputs": [
    {
     "data": {
      "text/plain": [
       "tensor([0.6208], grad_fn=<SigmoidBackward>)"
      ]
     },
     "execution_count": 56,
     "metadata": {},
     "output_type": "execute_result"
    }
   ],
   "source": [
    "mymodel(torch.tensor(patient_rbd))"
   ]
  },
  {
   "cell_type": "markdown",
   "id": "d29b568e",
   "metadata": {},
   "source": [
    "### The model predicted this patient as an RBD, simulation has been performed for this patients by keeping all other variables as same and varying only the UPDRS III scale, the value taken is maximum in the dataset. The prediction for this patient goes from 0.5 to 0.62 which makes him a PD patient. The model is able to capture the importance of UPDRS III scale in diagnosing Prakinson's"
   ]
  },
  {
   "cell_type": "markdown",
   "id": "51a1ae68",
   "metadata": {},
   "source": [
    "# Conclusion"
   ]
  },
  {
   "cell_type": "markdown",
   "id": "650f8611",
   "metadata": {},
   "source": [
    "### Both the models have a decent performance and are able to identify the important variables which are seen to be important in exploratory analysis as well. "
   ]
  }
 ],
 "metadata": {
  "kernelspec": {
   "display_name": "Python 3",
   "language": "python",
   "name": "python3"
  },
  "language_info": {
   "codemirror_mode": {
    "name": "ipython",
    "version": 3
   },
   "file_extension": ".py",
   "mimetype": "text/x-python",
   "name": "python",
   "nbconvert_exporter": "python",
   "pygments_lexer": "ipython3",
   "version": "3.8.6"
  }
 },
 "nbformat": 4,
 "nbformat_minor": 5
}
